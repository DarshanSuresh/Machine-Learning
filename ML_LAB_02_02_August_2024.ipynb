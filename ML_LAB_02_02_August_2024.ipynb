{
  "nbformat": 4,
  "nbformat_minor": 0,
  "metadata": {
    "colab": {
      "provenance": [],
      "authorship_tag": "ABX9TyMnXqROifhV1JBDAXh+4Amb",
      "include_colab_link": true
    },
    "kernelspec": {
      "name": "python3",
      "display_name": "Python 3"
    },
    "language_info": {
      "name": "python"
    }
  },
  "cells": [
    {
      "cell_type": "markdown",
      "metadata": {
        "id": "view-in-github",
        "colab_type": "text"
      },
      "source": [
        "<a href=\"https://colab.research.google.com/github/DarshanSuresh/Machine-Learning/blob/main/ML_LAB_02_02_August_2024.ipynb\" target=\"_parent\"><img src=\"https://colab.research.google.com/assets/colab-badge.svg\" alt=\"Open In Colab\"/></a>"
      ]
    },
    {
      "cell_type": "code",
      "source": [
        "import numpy as np\n",
        "import pandas as pd\n",
        "import csv"
      ],
      "metadata": {
        "_uuid": "8f2839f25d086af736a60e9eeb907d3b93b6e0e5",
        "_cell_guid": "b1076dfc-b9ad-4769-8c92-a6c4dae69d19",
        "trusted": true,
        "id": "r6Lbt23WP5Zv"
      },
      "execution_count": null,
      "outputs": []
    },
    {
      "cell_type": "markdown",
      "source": [
        "# Find S Algorithm\n",
        "\n",
        "Algorithm :\n",
        "\n",
        "1. Initialize h to the most specific hypothesis in H\n",
        "2. For each positive training instance x\n",
        "    For each attribute constraint a, in h\n",
        "        If the constraint a, is satisfied by x\n",
        "        Then do nothing\n",
        "        Else replace a, in h by the next more general constraint that is satisfied by x\n",
        "3. Output hypothesis h"
      ],
      "metadata": {
        "id": "KmpYxdDoP5Zv"
      }
    },
    {
      "cell_type": "code",
      "source": [
        "num_attributes = 6\n",
        "a = []\n",
        "print(\"\\n The Given Training Data Set \\n\")\n",
        "\n"
      ],
      "metadata": {
        "colab": {
          "base_uri": "https://localhost:8080/"
        },
        "id": "YaY0tAs1eCi5",
        "outputId": "07191c5d-20aa-41ac-b739-8d15d41645d3"
      },
      "execution_count": null,
      "outputs": [
        {
          "output_type": "stream",
          "name": "stdout",
          "text": [
            "\n",
            " The Given Training Data Set \n",
            "\n"
          ]
        }
      ]
    },
    {
      "cell_type": "markdown",
      "source": [
        "## Example 01"
      ],
      "metadata": {
        "id": "vJCBCIA-fIcP"
      }
    },
    {
      "cell_type": "code",
      "source": [
        "file = '/content/ws.csv'\n",
        "\n",
        "with open(file, 'r') as csvfile:\n",
        "    reader = csv.reader(csvfile)\n",
        "    for row in reader:\n",
        "        a.append(row)\n",
        "        print(row)\n",
        "\n",
        "print(\"\\n The initial value of hypothesis: \")\n",
        "hypothesis = ['0'] * num_attributes\n",
        "print(hypothesis)"
      ],
      "metadata": {
        "colab": {
          "base_uri": "https://localhost:8080/"
        },
        "id": "2zDLiUE1eBEM",
        "outputId": "4dab7849-e6f4-4b07-dc80-7172a282f085"
      },
      "execution_count": null,
      "outputs": [
        {
          "output_type": "stream",
          "name": "stdout",
          "text": [
            "['Sunny', 'Warm', 'Normal', 'Strong', 'Warm', 'Same', 'Yes']\n",
            "['Sunny', 'Warm', 'High', 'Strong', 'Warm', 'Same', 'Yes']\n",
            "['Rainy', 'Cold', 'High', 'Strong', 'Warm', 'Change', 'No']\n",
            "['Sunny', 'Warm', 'High', 'Strong', 'Cool', 'Change', 'Yes']\n",
            "\n",
            " The initial value of hypothesis: \n",
            "['0', '0', '0', '0', '0', '0']\n"
          ]
        }
      ]
    },
    {
      "cell_type": "code",
      "source": [
        "for j in range(0, num_attributes):\n",
        "    hypothesis[j] = a[0][j]\n",
        "\n",
        "print(\"\\n Find S: Finding a Maximally Specific Hypothesis\\n\")"
      ],
      "metadata": {
        "colab": {
          "base_uri": "https://localhost:8080/"
        },
        "id": "A_ryUbHBdz4k",
        "outputId": "3665f5c1-4e7e-429f-f29c-77f51dededb5"
      },
      "execution_count": null,
      "outputs": [
        {
          "output_type": "stream",
          "name": "stdout",
          "text": [
            "\n",
            " Find S: Finding a Maximally Specific Hypothesis\n",
            "\n"
          ]
        }
      ]
    },
    {
      "cell_type": "code",
      "source": [
        "for i in range(0, len(a)):\n",
        "    if a[i][num_attributes] == 'Yes':\n",
        "        for j in range(0, num_attributes):\n",
        "            if a[i][j] != hypothesis[j]:\n",
        "                hypothesis[j] = '?'\n",
        "            else:\n",
        "                hypothesis[j] = a[i][j]\n",
        "    print(\"\\nFor Training instance No:{} the hypothesis is \".format(i), hypothesis)\n",
        "\n",
        "print(\"\\n The Maximally Specific Hypothesis for the given Training Examples :\\n\")\n",
        "print(hypothesis)\n"
      ],
      "metadata": {
        "colab": {
          "base_uri": "https://localhost:8080/"
        },
        "id": "VQGIkxQ3eGRJ",
        "outputId": "5263f440-7850-4235-b5af-773c27d0da33"
      },
      "execution_count": null,
      "outputs": [
        {
          "output_type": "stream",
          "name": "stdout",
          "text": [
            "\n",
            "For Training instance No:0 the hypothesis is  ['Sunny', 'Warm', 'Normal', 'Strong', 'Warm', 'Same']\n",
            "\n",
            "For Training instance No:1 the hypothesis is  ['Sunny', 'Warm', '?', 'Strong', 'Warm', 'Same']\n",
            "\n",
            "For Training instance No:2 the hypothesis is  ['Sunny', 'Warm', '?', 'Strong', 'Warm', 'Same']\n",
            "\n",
            "For Training instance No:3 the hypothesis is  ['Sunny', 'Warm', '?', 'Strong', '?', '?']\n",
            "\n",
            " The Maximally Specific Hypothesis for the given Training Examples :\n",
            "\n",
            "['Sunny', 'Warm', '?', 'Strong', '?', '?']\n"
          ]
        }
      ]
    },
    {
      "cell_type": "markdown",
      "source": [
        "## Example 02"
      ],
      "metadata": {
        "id": "o_l7UqyJfGTg"
      }
    },
    {
      "cell_type": "code",
      "source": [
        "concepts = np.array([\n",
        "    ['Green', 'Hard', 'No', 'Wrinkled'],\n",
        "    ['Green', 'Hard', 'Yes', 'Smooth'],\n",
        "    ['Brown', 'Soft', 'No', 'Wrinkled'],\n",
        "    ['Orange', 'Hard', 'No', 'Wrinkled'],\n",
        "    ['Green', 'Soft', 'Yes', 'Smooth'],\n",
        "    ['Green', 'Hard', 'Yes', 'Wrinkled'],\n",
        "    ['Orange', 'Hard', 'No', 'Wrinkled']\n",
        "])\n",
        "\n",
        "print(concepts)\n",
        "\n",
        "labels = np.array(['No', 'Yes', 'No', 'No', 'Yes', 'Yes', 'No'])\n",
        "\n",
        "num_attributes = concepts.shape[1]\n",
        "\n",
        "hypothesis = ['0'] * num_attributes\n",
        "\n",
        "print(\"\\nInitial Hypothesis:\", hypothesis)\n"
      ],
      "metadata": {
        "colab": {
          "base_uri": "https://localhost:8080/"
        },
        "id": "ikkUQ8JqfcMn",
        "outputId": "4c9a7627-d620-40a0-d1a5-cb21eb4e8b15"
      },
      "execution_count": null,
      "outputs": [
        {
          "output_type": "stream",
          "name": "stdout",
          "text": [
            "[['Green' 'Hard' 'No' 'Wrinkled']\n",
            " ['Green' 'Hard' 'Yes' 'Smooth']\n",
            " ['Brown' 'Soft' 'No' 'Wrinkled']\n",
            " ['Orange' 'Hard' 'No' 'Wrinkled']\n",
            " ['Green' 'Soft' 'Yes' 'Smooth']\n",
            " ['Green' 'Hard' 'Yes' 'Wrinkled']\n",
            " ['Orange' 'Hard' 'No' 'Wrinkled']]\n",
            "\n",
            "Initial Hypothesis: ['0', '0', '0', '0']\n"
          ]
        }
      ]
    },
    {
      "cell_type": "code",
      "source": [
        "for i in range(len(concepts)):\n",
        "    if labels[i] == 'Yes':  # Process only positive examples\n",
        "        print(f\"\\nProcessing positive example {i}: {concepts[i]}\")\n",
        "        for j in range(num_attributes):\n",
        "            if hypothesis[j] == '0':  # Hypothesis is not yet specific\n",
        "                hypothesis[j] = concepts[i][j]  # Update to the specific attribute\n",
        "            elif hypothesis[j] != concepts[i][j]:  # Conflict with the new example\n",
        "                hypothesis[j] = '?'  # Generalize the attribute\n",
        "            # If hypothesis[j] matches concepts[i][j], no change is needed\n",
        "\n",
        "        print(f\"Updated Hypothesis after instance {i}: {hypothesis}\")\n",
        "\n",
        "print(\"\\nFinal Maximally Specific Hypothesis:\")\n",
        "print(hypothesis)\n"
      ],
      "metadata": {
        "colab": {
          "base_uri": "https://localhost:8080/"
        },
        "id": "h_qHEbe7f-ti",
        "outputId": "2c28fd07-927c-4678-eca9-231c6dc8f4d6"
      },
      "execution_count": null,
      "outputs": [
        {
          "output_type": "stream",
          "name": "stdout",
          "text": [
            "\n",
            "Processing positive example 1: ['Green' 'Hard' 'Yes' 'Smooth']\n",
            "Updated Hypothesis after instance 1: ['Green', 'Hard', 'Yes', 'Smooth']\n",
            "\n",
            "Processing positive example 4: ['Green' 'Soft' 'Yes' 'Smooth']\n",
            "Updated Hypothesis after instance 4: ['Green', '?', 'Yes', 'Smooth']\n",
            "\n",
            "Processing positive example 5: ['Green' 'Hard' 'Yes' 'Wrinkled']\n",
            "Updated Hypothesis after instance 5: ['Green', '?', 'Yes', '?']\n",
            "\n",
            "Final Maximally Specific Hypothesis:\n",
            "['Green', '?', 'Yes', '?']\n"
          ]
        }
      ]
    }
  ]
}